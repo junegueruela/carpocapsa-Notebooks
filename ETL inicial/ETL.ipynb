{
 "cells": [
  {
   "cell_type": "code",
   "execution_count": 1,
   "id": "0b69046a-2dce-4181-ad19-b599602a0808",
   "metadata": {},
   "outputs": [],
   "source": [
    "import pandas as pd\n",
    "import obtenerDatos as oD\n",
    "import conexionSGBD as cS\n",
    "import util as ut\n",
    "import os"
   ]
  },
  {
   "cell_type": "markdown",
   "id": "2ba5c987-0ebe-4a69-8f9d-8b8737275dfb",
   "metadata": {},
   "source": [
    " Obtenemos todas las estaciones climáticas que tiene la CAR. Para ello nos bajamos el catálogo de estaciones a través del siguiente enlace:\n",
    " https://ias1.larioja.org/apiSiar/servicios/v2/estaciones\n",
    " El formato que viene es json, adaptamos este json a nuestra tabla Estaciones. "
   ]
  },
  {
   "cell_type": "code",
   "execution_count": null,
   "id": "f0956e7a-8660-4551-a1b3-b20b2cadcc40",
   "metadata": {},
   "outputs": [],
   "source": [
    "## Definimos el directorio de trabajo\n",
    "#os.chdir('D:\\\\Plagas')\n",
    "dfEstaciones=pd.read_json('estaciones.json')\n",
    "## Seleccionamos solo las columnas que nos interesan.\n",
    "dfEstaciones=dfEstaciones[['codigo_estacion','municipio','nombre','altitud','coordenada_utm_y','coordenada_utm_x','latitud','longitud']]\n",
    "dfEstaciones=dfEstaciones.rename(columns={'codigo_estacion':'estacion','coordenada_utm_y':'utm_y','coordenada_utm_x':'utm_x',})\n",
    "## Guardamos este dataframe en la tabla Estaciones de nuestra base de datos a través de la función insertaTabla.\n",
    "cS.insertaTabla('Estaciones', dfEstaciones)\n"
   ]
  },
  {
   "cell_type": "markdown",
   "id": "0be2eb6c-72e3-4055-94ff-fc04b0efd066",
   "metadata": {},
   "source": [
    "Cargamos el csv con los datos de los municipios que forman parte de la denominación de origen de la Pera de Rincón de Soto.\n"
   ]
  },
  {
   "cell_type": "code",
   "execution_count": null,
   "id": "a624fcd5-1ec3-467c-adf3-6e2e4d9d25dd",
   "metadata": {},
   "outputs": [],
   "source": [
    "## Definimos el directorio de trabajo\n",
    "#os.chdir('D:\\\\Plagas')\n",
    "dfMunicipios=pd.read_csv('Municipios.csv',sep=';',encoding='UTF-8')\n",
    "## Guardamos este dataframe en la tabla Municipios de nuestra base de datos a través de la función insertaTabla.\n",
    "cS.insertaTabla('Municipios', dfMunicipios)\n",
    "## Faltaría asignar a cada municipio su estación de referencia. Lo haremos con SQL."
   ]
  },
  {
   "cell_type": "markdown",
   "id": "066d94f0-37cb-4e12-a311-11942b8488b1",
   "metadata": {},
   "source": [
    "Calculamos las distancias y diferencias de altitud que hay de cada municipio a las estaciones meteorógicas del SIAR. Esta información es util para que los técnicos de la DOP puedan elegir qué estación es la más adecuada a cada municipio. Para ello definimos la función haversine en util que nos devuelve la distancia entre dos coordenada y la llamamos desde aquí."
   ]
  },
  {
   "cell_type": "code",
   "execution_count": null,
   "id": "9a2fb059-d458-4eb6-aaae-6ad403c87e2f",
   "metadata": {},
   "outputs": [],
   "source": [
    "dfMunicipios=cS.getMunicipios()\n",
    "dfEstaciones=cS.getEstaciones()\n",
    "dfMunicipios=dfMunicipios.drop('Municipio',axis=1)\n",
    "dfEstaciones=dfEstaciones.drop(['municipio','nombre','utm_y','utm_x'],axis=1)\n",
    "## Hago el producto cartesiano de todas las estaciones y municipios\n",
    "dfMunicipios['clave']=0\n",
    "dfEstaciones['clave']=0\n",
    "dfdistancia=pd.merge(dfMunicipios, dfEstaciones, on='clave').drop('clave',axis=1)\n",
    "## Calculo las distancias y las diferencias de altitud\n",
    "dfdistancia['distancia']=  dfdistancia.apply(lambda row: ut.haversine(row['Latitud'], row['Longitud'], row['latitud'], row['longitud']),  axis=1)\n",
    "dfdistancia['difAltitud']=  dfdistancia.apply(lambda row: row['Altitud'] - row['altitud'],  axis=1)\n",
    "dfdistancia=dfdistancia[['idMunicipio','estacion','distancia','difAltitud']]\n",
    "cS.insertaTabla('DistanciasEst',dfdistancia)\n"
   ]
  },
  {
   "cell_type": "markdown",
   "id": "e678b2c9-d41f-45ba-8e25-4e447a50bc8d",
   "metadata": {},
   "source": [
    "A continuación, desde la página web del SIAR:\n",
    "https://www.larioja.org/agricultura/es/informacion-agroclimatica/red-estaciones-agroclimaticas-siar/consulta-personalizada\n",
    "Nos bajamos todos los datos climáticos de las estaciones que afectan a la DOP de la Pera de Rincón de Soto. Guardamos un fichero CSV con el formato <codigo_estacion>.csv y cargamos todos los ficheros en base de datos."
   ]
  },
  {
   "cell_type": "code",
   "execution_count": null,
   "id": "0d12bdcf-27a8-4a72-9deb-9fadb8dfbdd5",
   "metadata": {},
   "outputs": [],
   "source": [
    "## Definimos el directorio de trabajo\n",
    "#os.chdir('D:\\\\Plagas\\\\Temperaturas Car')\n",
    "## Leemos las estaciones que tenemos en base de datos\n",
    "dfEstaciones=cS.getEstaciones()\n",
    "## Por cada estacion leemos el csv correspondiente y guardamos en TemperaturasDiarias las temperaturas\n",
    "for est in dfEstaciones['estacion']:\n",
    "    dfTemperatura=pd.read_csv(str(est)+'.csv',sep=';',encoding='UTF-8')\n",
    "    ## Convertimos la fecha, que está en string a formato fecha de base de datos.\n",
    "    dfTemperatura['fecha']=dfTemperatura['fecha'].apply(lambda x: ut.convertirString(x,'CSV'))\n",
    "    cS.insertaTabla('TemperaturasDiarias',dfTemperatura)"
   ]
  },
  {
   "cell_type": "markdown",
   "id": "0f8a6fe3-208e-4672-9fc8-78f74ca93e7b",
   "metadata": {},
   "source": [
    "A partir de este momento, para actualizar los datos de las estaciones, utilizo las funciones de obtenerDatos: \n",
    "actualizarTodasEstaciones llama a la función actualizarEstacion que, por cada estación, me recupera toda la información meteorológica que le falta hasta la víspera de hoy."
   ]
  },
  {
   "cell_type": "markdown",
   "id": "a2d657bd-0341-4a62-af8b-027a5c9f555d",
   "metadata": {},
   "source": [
    "El siguiente paso es cargar los datos de todas las capturas que los técnicos de la DOP guardan en ficheros Excel. Convertimos los ficheros en csv y los cargamos en base de datos."
   ]
  },
  {
   "cell_type": "code",
   "execution_count": 4,
   "id": "1fcf542d-152f-4169-9657-eef8abbad0c8",
   "metadata": {},
   "outputs": [],
   "source": [
    "## Leer ficheros csv con datos de vuelos de la DOP Pera\n",
    "#os.chdir('D:\\\\Plagas\\\\CurvasDOP')\n",
    "for i in range(2005,2024):\n",
    "    ## En 2020 no se recogieron datos por motivo de la pandemia\n",
    "    if i != 2020:\n",
    "        fichero=str(i)+\".csv\"\n",
    "        dfPolilla=pd.read_csv(fichero,sep=';',encoding='UTF-8')\n",
    "        dfPolilla.head()\n",
    "        dfPolilla['Fecha']=dfPolilla['Fecha'].apply(lambda x: ut.convertirString(str(x),'CSV'))\n",
    "        columnas=list(dfPolilla.columns)\n",
    "        ## Pivotamos los dataframe de forma que tengamos una fila por día y finca\n",
    "        dfPolilla= pd.melt(dfPolilla, id_vars=['Fecha'], value_vars=columnas[1:len(columnas)], var_name='termino', value_name='Valor')\n",
    "        cS.insertaTabla('Vuelos',dfPolilla)"
   ]
  },
  {
   "cell_type": "code",
   "execution_count": null,
   "id": "59d0d425-9e90-438d-9c6c-aa08a07ce3a6",
   "metadata": {},
   "outputs": [],
   "source": []
  }
 ],
 "metadata": {
  "kernelspec": {
   "display_name": "Python 3 (ipykernel)",
   "language": "python",
   "name": "python3"
  },
  "language_info": {
   "codemirror_mode": {
    "name": "ipython",
    "version": 3
   },
   "file_extension": ".py",
   "mimetype": "text/x-python",
   "name": "python",
   "nbconvert_exporter": "python",
   "pygments_lexer": "ipython3",
   "version": "3.12.4"
  }
 },
 "nbformat": 4,
 "nbformat_minor": 5
}
